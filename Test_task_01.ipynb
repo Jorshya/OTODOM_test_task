{
 "cells": [
  {
   "cell_type": "code",
   "execution_count": 35,
   "id": "3d97b6d1",
   "metadata": {},
   "outputs": [],
   "source": [
    "import pandas as pd\n",
    "import missingno as msno\n",
    "import seaborn as sns\n",
    "import matplotlib.pyplot as mp\n",
    "sns.set()\n",
    "sns.set_theme()"
   ]
  },
  {
   "cell_type": "code",
   "execution_count": 16,
   "id": "5aedc841",
   "metadata": {},
   "outputs": [
    {
     "name": "stderr",
     "output_type": "stream",
     "text": [
      "C:\\Users\\Lenovo\\Anaconda3\\lib\\site-packages\\IPython\\core\\interactiveshell.py:3166: DtypeWarning: Columns (8) have mixed types.Specify dtype option on import or set low_memory=False.\n",
      "  interactivity=interactivity, compiler=compiler, result=result)\n"
     ]
    }
   ],
   "source": [
    "df = pd.read_csv('data_market_prices.csv')"
   ]
  },
  {
   "cell_type": "code",
   "execution_count": 17,
   "id": "10768b48",
   "metadata": {},
   "outputs": [
    {
     "name": "stdout",
     "output_type": "stream",
     "text": [
      "<class 'pandas.core.frame.DataFrame'>\n",
      "RangeIndex: 105062 entries, 0 to 105061\n",
      "Data columns (total 9 columns):\n",
      " #   Column         Non-Null Count   Dtype  \n",
      "---  ------         --------------   -----  \n",
      " 0   ad_id          105062 non-null  int64  \n",
      " 1   city_id        105062 non-null  int64  \n",
      " 2   category_id    105062 non-null  int64  \n",
      " 3   market         77364 non-null   object \n",
      " 4   date_posted    105062 non-null  object \n",
      " 5   date_expired   105062 non-null  object \n",
      " 6   price_per_sqm  105035 non-null  float64\n",
      " 7   price          105035 non-null  float64\n",
      " 8   rooms_num      105004 non-null  object \n",
      "dtypes: float64(2), int64(3), object(4)\n",
      "memory usage: 7.2+ MB\n"
     ]
    }
   ],
   "source": [
    "df.info()"
   ]
  },
  {
   "cell_type": "code",
   "execution_count": 22,
   "id": "433e8394",
   "metadata": {},
   "outputs": [
    {
     "data": {
      "text/html": [
       "<div>\n",
       "<style scoped>\n",
       "    .dataframe tbody tr th:only-of-type {\n",
       "        vertical-align: middle;\n",
       "    }\n",
       "\n",
       "    .dataframe tbody tr th {\n",
       "        vertical-align: top;\n",
       "    }\n",
       "\n",
       "    .dataframe thead th {\n",
       "        text-align: right;\n",
       "    }\n",
       "</style>\n",
       "<table border=\"1\" class=\"dataframe\">\n",
       "  <thead>\n",
       "    <tr style=\"text-align: right;\">\n",
       "      <th></th>\n",
       "      <th>ad_id</th>\n",
       "      <th>city_id</th>\n",
       "      <th>category_id</th>\n",
       "      <th>price_per_sqm</th>\n",
       "      <th>price</th>\n",
       "    </tr>\n",
       "  </thead>\n",
       "  <tbody>\n",
       "    <tr>\n",
       "      <th>count</th>\n",
       "      <td>1.049780e+05</td>\n",
       "      <td>104978.000000</td>\n",
       "      <td>104978.000000</td>\n",
       "      <td>104978.000000</td>\n",
       "      <td>1.049780e+05</td>\n",
       "    </tr>\n",
       "    <tr>\n",
       "      <th>mean</th>\n",
       "      <td>6.190297e+07</td>\n",
       "      <td>183.313990</td>\n",
       "      <td>108.562680</td>\n",
       "      <td>8545.700499</td>\n",
       "      <td>5.922340e+05</td>\n",
       "    </tr>\n",
       "    <tr>\n",
       "      <th>std</th>\n",
       "      <td>1.942707e+06</td>\n",
       "      <td>359.314097</td>\n",
       "      <td>25.992513</td>\n",
       "      <td>7700.378552</td>\n",
       "      <td>8.111824e+05</td>\n",
       "    </tr>\n",
       "    <tr>\n",
       "      <th>min</th>\n",
       "      <td>4.478563e+06</td>\n",
       "      <td>26.000000</td>\n",
       "      <td>101.000000</td>\n",
       "      <td>0.000000</td>\n",
       "      <td>1.000000e+00</td>\n",
       "    </tr>\n",
       "    <tr>\n",
       "      <th>25%</th>\n",
       "      <td>6.145340e+07</td>\n",
       "      <td>26.000000</td>\n",
       "      <td>101.000000</td>\n",
       "      <td>97.000000</td>\n",
       "      <td>1.200000e+04</td>\n",
       "    </tr>\n",
       "    <tr>\n",
       "      <th>50%</th>\n",
       "      <td>6.246774e+07</td>\n",
       "      <td>26.000000</td>\n",
       "      <td>101.000000</td>\n",
       "      <td>9355.000000</td>\n",
       "      <td>4.984600e+05</td>\n",
       "    </tr>\n",
       "    <tr>\n",
       "      <th>75%</th>\n",
       "      <td>6.276716e+07</td>\n",
       "      <td>26.000000</td>\n",
       "      <td>102.000000</td>\n",
       "      <td>12543.000000</td>\n",
       "      <td>7.200000e+05</td>\n",
       "    </tr>\n",
       "    <tr>\n",
       "      <th>max</th>\n",
       "      <td>6.293654e+07</td>\n",
       "      <td>1004.000000</td>\n",
       "      <td>202.000000</td>\n",
       "      <td>451000.000000</td>\n",
       "      <td>4.000000e+07</td>\n",
       "    </tr>\n",
       "  </tbody>\n",
       "</table>\n",
       "</div>"
      ],
      "text/plain": [
       "              ad_id        city_id    category_id  price_per_sqm         price\n",
       "count  1.049780e+05  104978.000000  104978.000000  104978.000000  1.049780e+05\n",
       "mean   6.190297e+07     183.313990     108.562680    8545.700499  5.922340e+05\n",
       "std    1.942707e+06     359.314097      25.992513    7700.378552  8.111824e+05\n",
       "min    4.478563e+06      26.000000     101.000000       0.000000  1.000000e+00\n",
       "25%    6.145340e+07      26.000000     101.000000      97.000000  1.200000e+04\n",
       "50%    6.246774e+07      26.000000     101.000000    9355.000000  4.984600e+05\n",
       "75%    6.276716e+07      26.000000     102.000000   12543.000000  7.200000e+05\n",
       "max    6.293654e+07    1004.000000     202.000000  451000.000000  4.000000e+07"
      ]
     },
     "execution_count": 22,
     "metadata": {},
     "output_type": "execute_result"
    }
   ],
   "source": [
    "df.describe()"
   ]
  },
  {
   "cell_type": "code",
   "execution_count": 18,
   "id": "c06e67e0",
   "metadata": {
    "scrolled": true
   },
   "outputs": [
    {
     "data": {
      "text/plain": [
       "<AxesSubplot:>"
      ]
     },
     "execution_count": 18,
     "metadata": {},
     "output_type": "execute_result"
    },
    {
     "data": {
      "image/png": "[encoded data removed]",
      "text/plain": [
       "<Figure size 1800x720 with 2 Axes>"
      ]
     },
     "metadata": {},
     "output_type": "display_data"
    }
   ],
   "source": [
    "msno.matrix(df)"
   ]
  },
  {
   "cell_type": "markdown",
   "id": "3bc5a8fa",
   "metadata": {},
   "source": [
    "We can see to 4 features with missing data: price_per_sqm,price,rooms_num and market"
   ]
  },
  {
   "cell_type": "code",
   "execution_count": 19,
   "id": "8d2be8a1",
   "metadata": {},
   "outputs": [],
   "source": [
    "# We candrop rows with missing  price_per_sqm,price,rooms_num case of a little amount of missing data and have no influence to\n",
    "# to the final results\n",
    "df= df.dropna( subset=['price_per_sqm','price','rooms_num'])"
   ]
  },
  {
   "cell_type": "code",
   "execution_count": 29,
   "id": "b08e0de0",
   "metadata": {},
   "outputs": [
    {
     "name": "stdout",
     "output_type": "stream",
     "text": [
      "False    104960\n",
      "True         18\n",
      "dtype: int64\n"
     ]
    }
   ],
   "source": [
    "# find and drop duplicates\n",
    "print(df.duplicated().value_counts())\n",
    "df = df.drop_duplicates()"
   ]
  },
  {
   "cell_type": "markdown",
   "id": "de2123d3",
   "metadata": {},
   "source": [
    "c"
   ]
  },
  {
   "cell_type": "code",
   "execution_count": 30,
   "id": "da01998d",
   "metadata": {},
   "outputs": [
    {
     "name": "stdout",
     "output_type": "stream",
     "text": [
      "<class 'pandas.core.frame.DataFrame'>\n",
      "Int64Index: 104960 entries, 0 to 105061\n",
      "Data columns (total 9 columns):\n",
      " #   Column         Non-Null Count   Dtype  \n",
      "---  ------         --------------   -----  \n",
      " 0   ad_id          104960 non-null  int64  \n",
      " 1   city_id        104960 non-null  int64  \n",
      " 2   category_id    104960 non-null  int64  \n",
      " 3   market         77284 non-null   object \n",
      " 4   date_posted    104960 non-null  object \n",
      " 5   date_expired   104960 non-null  object \n",
      " 6   price_per_sqm  104960 non-null  float64\n",
      " 7   price          104960 non-null  float64\n",
      " 8   rooms_num      104960 non-null  object \n",
      "dtypes: float64(2), int64(3), object(4)\n",
      "memory usage: 8.0+ MB\n"
     ]
    }
   ],
   "source": [
    "df.info()"
   ]
  },
  {
   "cell_type": "code",
   "execution_count": 21,
   "id": "946849d2",
   "metadata": {},
   "outputs": [
    {
     "data": {
      "text/plain": [
       "secondary    45768\n",
       "primary      31530\n",
       "Name: market, dtype: int64"
      ]
     },
     "execution_count": 21,
     "metadata": {},
     "output_type": "execute_result"
    }
   ],
   "source": [
    "df.market.value_counts()"
   ]
  },
  {
   "cell_type": "markdown",
   "id": "83f00fe1",
   "metadata": {},
   "source": [
    "We have only two categories in market features, let's try to find some correlation or insight ties to market category"
   ]
  },
  {
   "cell_type": "code",
   "execution_count": 31,
   "id": "cd6aee5b",
   "metadata": {},
   "outputs": [],
   "source": [
    "#drop all nans to find correlation\n",
    "df_wtht_nans = df.dropna()"
   ]
  },
  {
   "cell_type": "code",
   "execution_count": 40,
   "id": "f78fdb0d",
   "metadata": {},
   "outputs": [
    {
     "name": "stderr",
     "output_type": "stream",
     "text": [
      "C:\\Users\\Lenovo\\Anaconda3\\lib\\site-packages\\ipykernel_launcher.py:1: SettingWithCopyWarning: \n",
      "A value is trying to be set on a copy of a slice from a DataFrame.\n",
      "Try using .loc[row_indexer,col_indexer] = value instead\n",
      "\n",
      "See the caveats in the documentation: https://pandas.pydata.org/pandas-docs/stable/user_guide/indexing.html#returning-a-view-versus-a-copy\n",
      "  \"\"\"Entry point for launching an IPython kernel.\n",
      "C:\\Users\\Lenovo\\Anaconda3\\lib\\site-packages\\ipykernel_launcher.py:2: SettingWithCopyWarning: \n",
      "A value is trying to be set on a copy of a slice from a DataFrame.\n",
      "Try using .loc[row_indexer,col_indexer] = value instead\n",
      "\n",
      "See the caveats in the documentation: https://pandas.pydata.org/pandas-docs/stable/user_guide/indexing.html#returning-a-view-versus-a-copy\n",
      "  \n"
     ]
    }
   ],
   "source": [
    "df_wtht_nans['market'] = pd.Categorical(df_wtht_nans['market'])\n",
    "df_wtht_nans['market_code'] = df_wtht_nans['market'].cat.codes"
   ]
  },
  {
   "cell_type": "code",
   "execution_count": 42,
   "id": "61193262",
   "metadata": {},
   "outputs": [
    {
     "data": {
      "text/html": [
       "<div>\n",
       "<style scoped>\n",
       "    .dataframe tbody tr th:only-of-type {\n",
       "        vertical-align: middle;\n",
       "    }\n",
       "\n",
       "    .dataframe tbody tr th {\n",
       "        vertical-align: top;\n",
       "    }\n",
       "\n",
       "    .dataframe thead th {\n",
       "        text-align: right;\n",
       "    }\n",
       "</style>\n",
       "<table border=\"1\" class=\"dataframe\">\n",
       "  <thead>\n",
       "    <tr style=\"text-align: right;\">\n",
       "      <th></th>\n",
       "      <th>ad_id</th>\n",
       "      <th>city_id</th>\n",
       "      <th>category_id</th>\n",
       "      <th>market</th>\n",
       "      <th>date_posted</th>\n",
       "      <th>date_expired</th>\n",
       "      <th>price_per_sqm</th>\n",
       "      <th>price</th>\n",
       "      <th>rooms_num</th>\n",
       "      <th>market_code</th>\n",
       "    </tr>\n",
       "  </thead>\n",
       "  <tbody>\n",
       "    <tr>\n",
       "      <th>2</th>\n",
       "      <td>62925670</td>\n",
       "      <td>26</td>\n",
       "      <td>101</td>\n",
       "      <td>primary</td>\n",
       "      <td>3/28/2022</td>\n",
       "      <td>5/12/2022</td>\n",
       "      <td>15968.0</td>\n",
       "      <td>1390000.0</td>\n",
       "      <td>3</td>\n",
       "      <td>0</td>\n",
       "    </tr>\n",
       "    <tr>\n",
       "      <th>3</th>\n",
       "      <td>62261719</td>\n",
       "      <td>1004</td>\n",
       "      <td>101</td>\n",
       "      <td>secondary</td>\n",
       "      <td>9/9/2021</td>\n",
       "      <td>3/4/2022</td>\n",
       "      <td>6743.0</td>\n",
       "      <td>499000.0</td>\n",
       "      <td>3</td>\n",
       "      <td>1</td>\n",
       "    </tr>\n",
       "    <tr>\n",
       "      <th>5</th>\n",
       "      <td>61969443</td>\n",
       "      <td>26</td>\n",
       "      <td>101</td>\n",
       "      <td>secondary</td>\n",
       "      <td>6/17/2021</td>\n",
       "      <td>6/9/2022</td>\n",
       "      <td>14007.0</td>\n",
       "      <td>997000.0</td>\n",
       "      <td>3</td>\n",
       "      <td>1</td>\n",
       "    </tr>\n",
       "    <tr>\n",
       "      <th>6</th>\n",
       "      <td>62569893</td>\n",
       "      <td>26</td>\n",
       "      <td>101</td>\n",
       "      <td>secondary</td>\n",
       "      <td>12/9/2021</td>\n",
       "      <td>2/15/2022</td>\n",
       "      <td>31238.0</td>\n",
       "      <td>2499000.0</td>\n",
       "      <td>3</td>\n",
       "      <td>1</td>\n",
       "    </tr>\n",
       "    <tr>\n",
       "      <th>7</th>\n",
       "      <td>62391825</td>\n",
       "      <td>26</td>\n",
       "      <td>101</td>\n",
       "      <td>primary</td>\n",
       "      <td>10/15/2021</td>\n",
       "      <td>6/12/2022</td>\n",
       "      <td>9790.0</td>\n",
       "      <td>600000.0</td>\n",
       "      <td>3</td>\n",
       "      <td>0</td>\n",
       "    </tr>\n",
       "  </tbody>\n",
       "</table>\n",
       "</div>"
      ],
      "text/plain": [
       "      ad_id  city_id  category_id     market date_posted date_expired  \\\n",
       "2  62925670       26          101    primary   3/28/2022    5/12/2022   \n",
       "3  62261719     1004          101  secondary    9/9/2021     3/4/2022   \n",
       "5  61969443       26          101  secondary   6/17/2021     6/9/2022   \n",
       "6  62569893       26          101  secondary   12/9/2021    2/15/2022   \n",
       "7  62391825       26          101    primary  10/15/2021    6/12/2022   \n",
       "\n",
       "   price_per_sqm      price rooms_num  market_code  \n",
       "2        15968.0  1390000.0         3            0  \n",
       "3         6743.0   499000.0         3            1  \n",
       "5        14007.0   997000.0         3            1  \n",
       "6        31238.0  2499000.0         3            1  \n",
       "7         9790.0   600000.0         3            0  "
      ]
     },
     "execution_count": 42,
     "metadata": {},
     "output_type": "execute_result"
    }
   ],
   "source": [
    "df_wtht_nans.head()"
   ]
  },
  {
   "cell_type": "code",
   "execution_count": 43,
   "id": "bfbd475e",
   "metadata": {},
   "outputs": [
    {
     "data": {
      "image/png": "[encoded data removed]",
      "text/plain": [
       "<Figure size 432x288 with 2 Axes>"
      ]
     },
     "metadata": {},
     "output_type": "display_data"
    }
   ],
   "source": [
    "corr = df_wtht_nans.corr()\n",
    "dataplot = sns.heatmap(corr, cmap=\"YlGnBu\", annot=True)\n",
    "mp.show()"
   ]
  },
  {
   "cell_type": "code",
   "execution_count": null,
   "id": "3e399071",
   "metadata": {},
   "outputs": [],
   "source": []
  }
 ],
 "metadata": {
  "kernelspec": {
   "display_name": "Python 3",
   "language": "python",
   "name": "python3"
  },
  "language_info": {
   "codemirror_mode": {
    "name": "ipython",
    "version": 3
   },
   "file_extension": ".py",
   "mimetype": "text/x-python",
   "name": "python",
   "nbconvert_exporter": "python",
   "pygments_lexer": "ipython3",
   "version": "3.7.10"
  }
 },
 "nbformat": 4,
 "nbformat_minor": 5
}
